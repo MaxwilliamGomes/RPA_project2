{
 "cells": [
  {
   "cell_type": "code",
   "execution_count": 25,
   "id": "f0812abc",
   "metadata": {},
   "outputs": [],
   "source": [
    "# Importações\n",
    "\n",
    "from selenium import webdriver\n",
    "from selenium.webdriver.common.by import By\n",
    "from selenium.webdriver.common.keys import Keys\n",
    "from selenium.webdriver.chrome.service import Service\n",
    "from webdriver_manager.chrome import ChromeDriverManager\n",
    "import time\n",
    "\n",
    "import pandas as pd\n",
    "import re\n",
    "import warnings\n"
   ]
  },
  {
   "cell_type": "code",
   "execution_count": 26,
   "id": "030e138c",
   "metadata": {},
   "outputs": [],
   "source": [
    "# Suprimir todos os warnings\n",
    "warnings.filterwarnings('ignore')\n",
    "\n"
   ]
  },
  {
   "cell_type": "code",
   "execution_count": 27,
   "id": "c5cf0cb2",
   "metadata": {},
   "outputs": [],
   "source": [
    "# Configurar o driver\n",
    "driver  = webdriver.Chrome()\n",
    "\n",
    "driver.get('https://web.whatsapp.com')\n"
   ]
  },
  {
   "cell_type": "code",
   "execution_count": 41,
   "id": "f48d30bb",
   "metadata": {},
   "outputs": [],
   "source": [
    "# Encontrar todos os elementos <span> com o atributo 'title' preenchido\n",
    "spans_with_title = driver.find_elements(By.XPATH, '//span[@title]')\n"
   ]
  },
  {
   "cell_type": "code",
   "execution_count": 42,
   "id": "d13201e3",
   "metadata": {},
   "outputs": [],
   "source": [
    "# Criar uma lista para armazenar os textos do atributo 'title'\n",
    "titles = [span.get_attribute('title') for span in spans_with_title]\n"
   ]
  },
  {
   "cell_type": "code",
   "execution_count": 43,
   "id": "3e5b3c9f",
   "metadata": {},
   "outputs": [],
   "source": [
    "# Ordenar a lista do maior para o menor tamanho de texto\n",
    "titles_sorted = sorted(titles, key=len, reverse=True)\n"
   ]
  },
  {
   "cell_type": "code",
   "execution_count": 44,
   "id": "aba97da3",
   "metadata": {},
   "outputs": [],
   "source": [
    "# Criar uma lista a partir do conteúdo, dividindo por vírgulas\n",
    "numbers_list = [item.strip() for item in titles_sorted[0].split(',')]\n"
   ]
  },
  {
   "cell_type": "code",
   "execution_count": 45,
   "id": "229a458e",
   "metadata": {},
   "outputs": [],
   "source": [
    "# Criando dataframe com números\n",
    "df = pd.DataFrame(numbers_list, columns=['Whatsapp'])\n"
   ]
  },
  {
   "cell_type": "code",
   "execution_count": 46,
   "id": "578ec26c",
   "metadata": {},
   "outputs": [],
   "source": [
    "# Tirando substring 'mais'\n",
    "df = df[~df['Whatsapp'].str.contains('mais', case=False, na=False)]\n"
   ]
  },
  {
   "cell_type": "code",
   "execution_count": 47,
   "id": "58fb6344",
   "metadata": {},
   "outputs": [],
   "source": [
    "# Função para limpar o número, removendo caracteres indesejados\n",
    "def limpar_numero(numero):\n",
    "    return re.sub(r'[+()\\-\\s]', '', numero)\n"
   ]
  },
  {
   "cell_type": "code",
   "execution_count": 48,
   "id": "6db6f371",
   "metadata": {},
   "outputs": [],
   "source": [
    "# Aplicar a função de limpeza em cada item da lista\n",
    "df['Numero limpo'] = df['Whatsapp'].apply(limpar_numero)\n"
   ]
  },
  {
   "cell_type": "code",
   "execution_count": 49,
   "id": "b0a80a95",
   "metadata": {},
   "outputs": [],
   "source": [
    "# Criando link\n",
    "df['Link'] = df['Numero limpo'].apply(lambda x: f\"https://web.whatsapp.com/send?phone={x}\")\n"
   ]
  },
  {
   "cell_type": "code",
   "execution_count": 50,
   "id": "7038f10a",
   "metadata": {},
   "outputs": [],
   "source": [
    "# Tirando duplicações\n",
    "df.drop_duplicates(inplace=True)\n"
   ]
  },
  {
   "cell_type": "code",
   "execution_count": 55,
   "id": "97e8aad8",
   "metadata": {},
   "outputs": [],
   "source": [
    "#Inserir nome grupo \n",
    "nome_grupo = 'Data Creators'\n",
    "df['Grupo'] = nome_grupo"
   ]
  },
  {
   "cell_type": "code",
   "execution_count": 56,
   "id": "8abd0b69",
   "metadata": {},
   "outputs": [
    {
     "data": {
      "text/html": [
       "<div>\n",
       "<style scoped>\n",
       "    .dataframe tbody tr th:only-of-type {\n",
       "        vertical-align: middle;\n",
       "    }\n",
       "\n",
       "    .dataframe tbody tr th {\n",
       "        vertical-align: top;\n",
       "    }\n",
       "\n",
       "    .dataframe thead th {\n",
       "        text-align: right;\n",
       "    }\n",
       "</style>\n",
       "<table border=\"1\" class=\"dataframe\">\n",
       "  <thead>\n",
       "    <tr style=\"text-align: right;\">\n",
       "      <th></th>\n",
       "      <th>Whatsapp</th>\n",
       "      <th>Link</th>\n",
       "      <th>Grupo</th>\n",
       "    </tr>\n",
       "  </thead>\n",
       "  <tbody>\n",
       "    <tr>\n",
       "      <th>0</th>\n",
       "      <td>Bruno</td>\n",
       "      <td>https://web.whatsapp.com/send?phone=Bruno</td>\n",
       "      <td>Data Creators</td>\n",
       "    </tr>\n",
       "    <tr>\n",
       "      <th>2</th>\n",
       "      <td>Diego</td>\n",
       "      <td>https://web.whatsapp.com/send?phone=Diego</td>\n",
       "      <td>Data Creators</td>\n",
       "    </tr>\n",
       "    <tr>\n",
       "      <th>3</th>\n",
       "      <td>Heitor</td>\n",
       "      <td>https://web.whatsapp.com/send?phone=Heitor</td>\n",
       "      <td>Data Creators</td>\n",
       "    </tr>\n",
       "    <tr>\n",
       "      <th>5</th>\n",
       "      <td>Ivys</td>\n",
       "      <td>https://web.whatsapp.com/send?phone=Ivys</td>\n",
       "      <td>Data Creators</td>\n",
       "    </tr>\n",
       "    <tr>\n",
       "      <th>6</th>\n",
       "      <td>Livia</td>\n",
       "      <td>https://web.whatsapp.com/send?phone=Livia</td>\n",
       "      <td>Data Creators</td>\n",
       "    </tr>\n",
       "    <tr>\n",
       "      <th>...</th>\n",
       "      <td>...</td>\n",
       "      <td>...</td>\n",
       "      <td>...</td>\n",
       "    </tr>\n",
       "    <tr>\n",
       "      <th>168</th>\n",
       "      <td>+55 92 9130-9432</td>\n",
       "      <td>https://web.whatsapp.com/send?phone=559291309432</td>\n",
       "      <td>Data Creators</td>\n",
       "    </tr>\n",
       "    <tr>\n",
       "      <th>169</th>\n",
       "      <td>+55 98 9215-1430</td>\n",
       "      <td>https://web.whatsapp.com/send?phone=559892151430</td>\n",
       "      <td>Data Creators</td>\n",
       "    </tr>\n",
       "    <tr>\n",
       "      <th>170</th>\n",
       "      <td>+61 407 311 432</td>\n",
       "      <td>https://web.whatsapp.com/send?phone=61407311432</td>\n",
       "      <td>Data Creators</td>\n",
       "    </tr>\n",
       "    <tr>\n",
       "      <th>171</th>\n",
       "      <td>+61 490 471 370</td>\n",
       "      <td>https://web.whatsapp.com/send?phone=61490471370</td>\n",
       "      <td>Data Creators</td>\n",
       "    </tr>\n",
       "    <tr>\n",
       "      <th>172</th>\n",
       "      <td>Você</td>\n",
       "      <td>https://web.whatsapp.com/send?phone=Você</td>\n",
       "      <td>Data Creators</td>\n",
       "    </tr>\n",
       "  </tbody>\n",
       "</table>\n",
       "<p>171 rows × 3 columns</p>\n",
       "</div>"
      ],
      "text/plain": [
       "             Whatsapp                                              Link  \\\n",
       "0               Bruno         https://web.whatsapp.com/send?phone=Bruno   \n",
       "2               Diego         https://web.whatsapp.com/send?phone=Diego   \n",
       "3              Heitor        https://web.whatsapp.com/send?phone=Heitor   \n",
       "5                Ivys          https://web.whatsapp.com/send?phone=Ivys   \n",
       "6               Livia         https://web.whatsapp.com/send?phone=Livia   \n",
       "..                ...                                               ...   \n",
       "168  +55 92 9130-9432  https://web.whatsapp.com/send?phone=559291309432   \n",
       "169  +55 98 9215-1430  https://web.whatsapp.com/send?phone=559892151430   \n",
       "170   +61 407 311 432   https://web.whatsapp.com/send?phone=61407311432   \n",
       "171   +61 490 471 370   https://web.whatsapp.com/send?phone=61490471370   \n",
       "172              Você          https://web.whatsapp.com/send?phone=Você   \n",
       "\n",
       "             Grupo  \n",
       "0    Data Creators  \n",
       "2    Data Creators  \n",
       "3    Data Creators  \n",
       "5    Data Creators  \n",
       "6    Data Creators  \n",
       "..             ...  \n",
       "168  Data Creators  \n",
       "169  Data Creators  \n",
       "170  Data Creators  \n",
       "171  Data Creators  \n",
       "172  Data Creators  \n",
       "\n",
       "[171 rows x 3 columns]"
      ]
     },
     "execution_count": 56,
     "metadata": {},
     "output_type": "execute_result"
    }
   ],
   "source": [
    "# Conferindo se está tudo certo\n",
    "df[['Whatsapp','Link','Grupo']]\n"
   ]
  },
  {
   "cell_type": "code",
   "execution_count": 57,
   "id": "a17baba1",
   "metadata": {},
   "outputs": [],
   "source": [
    "df[['Whatsapp','Link','Grupo']].to_csv('contatos_whatsapp.csv',index=False)\n"
   ]
  }
 ],
 "metadata": {
  "kernelspec": {
   "display_name": "Python 3",
   "language": "python",
   "name": "python3"
  },
  "language_info": {
   "codemirror_mode": {
    "name": "ipython",
    "version": 3
   },
   "file_extension": ".py",
   "mimetype": "text/x-python",
   "name": "python",
   "nbconvert_exporter": "python",
   "pygments_lexer": "ipython3",
   "version": "3.12.2"
  }
 },
 "nbformat": 4,
 "nbformat_minor": 5
}
